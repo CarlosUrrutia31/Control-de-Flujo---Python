{
 "cells": [
  {
   "cell_type": "markdown",
   "metadata": {},
   "source": [
    "# Ejercicios Modulo 2. Control de flujo\n",
    "\n",
    "Consideraciones a tener en cuenta: \n",
    "\n",
    "* Guardar este documento con el siguiente formato para su entrega: __M2_05_nombre_apellido1_apellido2__\n",
    "* Realizar los ejercicios con las herramientas vistas en las sesiones. \n",
    "* Comentar el código\n",
    "* Utilizar nombres de variables apropiados, si vais a guardar una nota, llamar a esa variable nota, no n o x"
   ]
  },
  {
   "cell_type": "markdown",
   "metadata": {},
   "source": [
    "## Ejercicios de control de flujo"
   ]
  },
  {
   "cell_type": "markdown",
   "metadata": {},
   "source": [
    "**1) Realiza un programa que lea tres números por teclado y permita evaluar lo siguiente:** \n",
    "* Si los números están en orden ascendente\n",
    "* Si los números no están en orden ascendente\n",
    "* Si hay un error debido a que el primer número introducido es 0\n",
    "\n",
    "__No uses listas, eso dejalo para el siguiente ejercicio__"
   ]
  },
  {
   "cell_type": "code",
   "execution_count": 15,
   "metadata": {},
   "outputs": [
    {
     "name": "stdout",
     "output_type": "stream",
     "text": [
      "introduce 3 numeros\n",
      "introduce el primer numero 2\n",
      "introduce el primer numero 4\n",
      "introduce el primer numero 9\n",
      "los numeros están ordenados en orden ascendente\n"
     ]
    }
   ],
   "source": [
    "print(\"introduce 3 numeros\")\n",
    "n1=int(input(\"introduce el primer numero \"))\n",
    "n2=int(input(\"introduce el primer numero \"))\n",
    "n3=int(input(\"introduce el primer numero \"))\n",
    "\n",
    "if n1 > n2 and n2 > n3:\n",
    "    print(\"los numeros están ordenados en orden descendente\")\n",
    "    \n",
    "elif n1 < n2 and n2 < n3:\n",
    "    print(\"los numeros están ordenados en orden ascendente\")\n",
    "    \n",
    "elif(n1<=0):\n",
    "    \n",
    "    print(\"el primer numero introducido es menor de 0\")\n",
    "    \n",
    "else:\n",
    "    print(\"Error\")"
   ]
  },
  {
   "cell_type": "markdown",
   "metadata": {},
   "source": [
    "**2) Realiza el ejercicio anterior pero introduciendo los numeros en una lista:**"
   ]
  },
  {
   "cell_type": "code",
   "execution_count": 16,
   "metadata": {},
   "outputs": [
    {
     "name": "stdout",
     "output_type": "stream",
     "text": [
      "[1] [3] [20]\n",
      "Orden descendente\n"
     ]
    }
   ],
   "source": [
    "numero1 = [1]\n",
    "numero2 = [3]\n",
    "numero3 = [20]\n",
    "print(numero1,numero2,numero3)\n",
    "\n",
    "if numero1 > numero2 and numero1 > numero3 :\n",
    "    print(\"Orden ascendente\")\n",
    "    \n",
    "elif numero3 > numero2 and numero3 > numero1 :\n",
    "    print(\"Orden descendente\")\n",
    "    \n",
    "else:\n",
    "    print(\"Error\")"
   ]
  },
  {
   "cell_type": "markdown",
   "metadata": {},
   "source": [
    "**3) Realiza un programa que realice el sumatorio de los primeros N números, empezando en 0, y siendo N el número límite que el usuario proporciona por teclado:** \n",
    "* Ejemplo de número límite introducido por el usuario: 5\n",
    "* sumatorio = 0 + 1 + 2 + 3 + 4 (sumamos los 5 primeros números)"
   ]
  },
  {
   "cell_type": "code",
   "execution_count": 21,
   "metadata": {},
   "outputs": [
    {
     "name": "stdout",
     "output_type": "stream",
     "text": [
      "Ingrese un Número : \n",
      "5\n",
      "La Suma es :  15\n"
     ]
    }
   ],
   "source": [
    "print(\"Ingrese un Número : \")\n",
    "nu1 = 0\n",
    "nu2 = 5\n",
    "nu3 = 5\n",
    "num = int(input())\n",
    "cont = 0\n",
    "suma = 0\n",
    "while cont <= num:\n",
    "    suma = suma+cont\n",
    "    cont = cont+1\n",
    "    \n",
    "print(\"La Suma es : \",suma)"
   ]
  },
  {
   "cell_type": "markdown",
   "metadata": {},
   "source": [
    "**4) Realiza un programa que lea letras y cuente con una variable contador las letras \"a\" que se introducen. Para salir del programa, introducir el carácter \".\". Al finalizar mostrar el número de veces que se ha pulsado la letra \"a\".**"
   ]
  },
  {
   "cell_type": "code",
   "execution_count": 22,
   "metadata": {},
   "outputs": [
    {
     "name": "stdout",
     "output_type": "stream",
     "text": [
      "A\n",
      "p\n",
      "r\n",
      "e\n",
      "n\n",
      "d\n",
      "e\n",
      "r\n",
      " \n",
      "P\n",
      "y\n",
      "t\n",
      "h\n",
      "o\n",
      "n\n",
      " \n",
      "e\n",
      "n\n",
      " \n",
      "c\n",
      "a\n",
      "s\n",
      "a\n",
      "El numero de aes es:  2\n"
     ]
    }
   ],
   "source": [
    "texto = \"Aprender Python en casa\"\n",
    "contador = 0\n",
    "for letra in texto:\n",
    "    if letra == \"a\":\n",
    "        contador +=1\n",
    "    print(letra)\n",
    "\n",
    "print(\"El numero de aes es: \",contador)"
   ]
  },
  {
   "cell_type": "markdown",
   "metadata": {},
   "source": [
    "**5) Realiza el sumatorio de los números pares comprendidos entre 1000 y 73 (en este orden, yendo hacia atrás). Implementa esta solución con un bucle for o while:**"
   ]
  },
  {
   "cell_type": "code",
   "execution_count": 26,
   "metadata": {},
   "outputs": [
    {
     "name": "stdout",
     "output_type": "stream",
     "text": [
      "La suma de los números es:  250038\n"
     ]
    }
   ],
   "source": [
    "suma = 0\n",
    "\n",
    "for x in range(1000,43,-2):\n",
    "    if x % 2 == 0:\n",
    "        suma = suma + x\n",
    "        \n",
    "print(\"La suma de los números es: \",suma)"
   ]
  },
  {
   "cell_type": "markdown",
   "metadata": {},
   "source": [
    "**6) Realiza un programa que solicite al usuario un número que representa el total de números que se van a introducir. Posteriormente leer todos esos números, meterlos en una lista y realizar:**\n",
    "* La ordenación de la lista de menor a mayor\n",
    "* Indicar el promedio de la lista\n",
    "* Indicar el valor máximo y el valor mínimo y en que posiciones se encuentran"
   ]
  },
  {
   "cell_type": "code",
   "execution_count": 2,
   "metadata": {},
   "outputs": [
    {
     "name": "stdout",
     "output_type": "stream",
     "text": [
      "Introduzca numeros: 5,4,70,8,9,12,0\n"
     ]
    }
   ],
   "source": [
    "datos = input(\"Introduzca numeros: \")"
   ]
  },
  {
   "cell_type": "code",
   "execution_count": 3,
   "metadata": {},
   "outputs": [
    {
     "name": "stdout",
     "output_type": "stream",
     "text": [
      "5,4,70,8,9,12,0\n"
     ]
    }
   ],
   "source": [
    "print(datos)"
   ]
  },
  {
   "cell_type": "code",
   "execution_count": 4,
   "metadata": {},
   "outputs": [
    {
     "data": {
      "text/plain": [
       "[0, 4, 5, 8, 9, 12, 70]"
      ]
     },
     "execution_count": 4,
     "metadata": {},
     "output_type": "execute_result"
    }
   ],
   "source": [
    "datos = [5,4,70,8,9,12,0]\n",
    "ordenados = sorted(datos)\n",
    "ordenados\n",
    "# Ordenación de la lista de menor a mayor"
   ]
  },
  {
   "cell_type": "code",
   "execution_count": 5,
   "metadata": {},
   "outputs": [
    {
     "name": "stdout",
     "output_type": "stream",
     "text": [
      "15.428571428571429\n"
     ]
    }
   ],
   "source": [
    "promedio = sum([5,4,70,8,9,12,0])/len([5,4,70,8,9,12,0])\n",
    "print(promedio)\n",
    "# Promedio de la lista"
   ]
  },
  {
   "cell_type": "code",
   "execution_count": 12,
   "metadata": {},
   "outputs": [
    {
     "name": "stdout",
     "output_type": "stream",
     "text": [
      "70\n",
      "70\n"
     ]
    }
   ],
   "source": [
    "valormaximo = max(datos)\n",
    "print(valor)\n",
    "valorminimo = min(datos)\n",
    "print(valor)"
   ]
  },
  {
   "cell_type": "code",
   "execution_count": 19,
   "metadata": {},
   "outputs": [
    {
     "name": "stdout",
     "output_type": "stream",
     "text": [
      "indice: 0\n",
      "num 0\n",
      "indice: 1\n",
      "num 4\n",
      "indice: 2\n",
      "num 5\n",
      "indice: 3\n",
      "num 8\n",
      "indice: 4\n",
      "num 9\n",
      "indice: 5\n",
      "num 12\n",
      "indice: 6\n",
      "num 70\n",
      "[0, 4, 5, 8, 9, 12, 70]\n"
     ]
    }
   ],
   "source": [
    "datos = [0, 4, 5, 8, 9, 12, 70]\n",
    "for indice, num in enumerate (datos):\n",
    "    print(\"indice:\",indice)\n",
    "    print(\"num\",num)\n",
    "print(datos)"
   ]
  },
  {
   "cell_type": "markdown",
   "metadata": {},
   "source": [
    "**7) Crea una lista de palabras, recorre la lista y muestra cada palabra junto con su longitud. Al final, indicar cual fue la palabra con más caracteres.**"
   ]
  },
  {
   "cell_type": "code",
   "execution_count": 1,
   "metadata": {},
   "outputs": [
    {
     "name": "stdout",
     "output_type": "stream",
     "text": [
      "hola -> 4\n",
      "que -> 3\n",
      "tal -> 3\n",
      "estas -> 5\n",
      "estudiando -> 10\n",
      "Python -> 6\n",
      " > La palabra con más letras es estudiando con 10 letras\n"
     ]
    }
   ],
   "source": [
    "palabras = [\"hola\", \"que\", \"tal\", \"estas\", \"estudiando\", \"Python\"]\n",
    "\n",
    "indiceMayor = 0\n",
    "\n",
    "numLetrasMayor = 0\n",
    "\n",
    "for index, palabra in enumerate(palabras):\n",
    "\n",
    "    print(palabra, \"->\", len(palabra))\n",
    "\n",
    "    if(len(palabra) > numLetrasMayor):\n",
    "\n",
    "        numLetrasMayor = len(palabra)\n",
    "\n",
    "        indiceMayor = index\n",
    "\n",
    "print(\" > La palabra con más letras es {} con {} letras\".format(palabras[indiceMayor], len(palabras[indiceMayor])))"
   ]
  },
  {
   "cell_type": "markdown",
   "metadata": {},
   "source": [
    "**8) Crea un menú con esta forma:**\n",
    "```python\n",
    "MENU COMPRA-VENTA\n",
    "    1. Comprar\n",
    "    2. Vender\n",
    "    3. Alquilar\n",
    "    4. Mostrar listas de datos\n",
    "    5. Salir\n",
    "    Introduzca que desea hacer(1-4): \n",
    "```\n",
    "* Si se selecciona la opción 1 preguntaremos al usuario que quiere comprar y después de que el usuario lo haya introducido se guardará en una lista destinada a las compras y se volverá al menú principal.\n",
    "* Si se selecciona la opción 2 preguntaremos al usuario que quiere vender y después de que el usuario lo haya introducido se guardará en una lista destinada a las ventas y se volverá al menú principal.\n",
    "* Si se selecciona la opción 3 preguntaremos al usuario que quiere alquilar y después de que el usuario lo haya introducido se guardará en una lista destinada a los alquileres y se volverá al menú principal.\n",
    "* Si se selecciona la opción 4 se mostrarán todas las listas.\n",
    "* Si se selecciona la opción 5 saldremos del bucle."
   ]
  },
  {
   "cell_type": "code",
   "execution_count": 2,
   "metadata": {},
   "outputs": [
    {
     "name": "stdout",
     "output_type": "stream",
     "text": [
      "Menu Compra-Venta\n",
      "\n",
      "    1) Comprar\n",
      "    2) Vender\n",
      "    3) Alquilar\n",
      "    4) Mostrar listas de datos\n",
      "    5) Salir\n",
      "    Introduzca que desea hacer(1-4)\n",
      "2\n",
      "¿Que quiere vender?\n",
      "\n",
      "    1) Comprar\n",
      "    2) Vender\n",
      "    3) Alquilar\n",
      "    4) Mostrar listas de datos\n",
      "    5) Salir\n",
      "    Introduzca que desea hacer(1-4)\n",
      "3\n",
      "¿Que quiere alquilar?\n",
      "\n",
      "    1) Comprar\n",
      "    2) Vender\n",
      "    3) Alquilar\n",
      "    4) Mostrar listas de datos\n",
      "    5) Salir\n",
      "    Introduzca que desea hacer(1-4)\n",
      "r\n",
      "Comando desconocido, vuelve a intentarlo\n",
      "\n",
      "    1) Comprar\n",
      "    2) Vender\n",
      "    3) Alquilar\n",
      "    4) Mostrar listas de datos\n",
      "    5) Salir\n",
      "    Introduzca que desea hacer(1-4)\n",
      "4\n",
      "\n",
      "\n",
      "    1) Comprar\n",
      "    2) Vender\n",
      "    3) Alquilar\n",
      "    4) Mostrar listas de datos\n",
      "    5) Salir\n",
      "    Introduzca que desea hacer(1-4)\n",
      "5\n"
     ]
    }
   ],
   "source": [
    "print(\"Menu Compra-Venta\")\n",
    "while(True):\n",
    "    print(\"\"\"\n",
    "    1) Comprar\n",
    "    2) Vender\n",
    "    3) Alquilar\n",
    "    4) Mostrar listas de datos\n",
    "    5) Salir\n",
    "    Introduzca que desea hacer(1-4)\"\"\")\n",
    "    opcion = input()\n",
    "    if opcion == '1':\n",
    "        print(\"¿Que quiere comprar?\")\n",
    "    elif opcion == '2':\n",
    "        print(\"¿Que quiere vender?\")\n",
    "    elif opcion =='3':\n",
    "        print(\"¿Que quiere alquilar?\")\n",
    "    elif opcion =='4':\n",
    "        print()\n",
    "    elif opcion =='5':\n",
    "        break\n",
    "        \n",
    "    else:\n",
    "        print(\"Comando desconocido, vuelve a intentarlo\")"
   ]
  }
 ],
 "metadata": {
  "anaconda-cloud": {},
  "kernelspec": {
   "display_name": "Python 3 (ipykernel)",
   "language": "python",
   "name": "python3"
  },
  "language_info": {
   "codemirror_mode": {
    "name": "ipython",
    "version": 3
   },
   "file_extension": ".py",
   "mimetype": "text/x-python",
   "name": "python",
   "nbconvert_exporter": "python",
   "pygments_lexer": "ipython3",
   "version": "3.9.7"
  }
 },
 "nbformat": 4,
 "nbformat_minor": 1
}
